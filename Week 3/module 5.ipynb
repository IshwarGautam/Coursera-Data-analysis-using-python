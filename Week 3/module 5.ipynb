{
 "cells": [
  {
   "cell_type": "markdown",
   "metadata": {
    "colab_type": "text",
    "deletable": false,
    "editable": false,
    "id": "Qqh0sl8e54Gn",
    "nbgrader": {
     "cell_type": "markdown",
     "checksum": "6b518feb65b0a60e141c28894caae0e0",
     "grade": false,
     "grade_id": "cell-cac396d116c54da1",
     "locked": true,
     "schema_version": 3,
     "solution": false,
     "task": false
    }
   },
   "source": [
    "## Module 5\n",
    "\n",
    "In this assignment, you are going to work on Histograms and Scatterplots.\n",
    "\n",
    "We have preprocessed the data as \"df\" for you. \n",
    "\n",
    "Follow the instructions and finish the rest part."
   ]
  },
  {
   "cell_type": "code",
   "execution_count": 1,
   "metadata": {
    "colab": {},
    "colab_type": "code",
    "deletable": false,
    "editable": false,
    "id": "0sgTobvW54Go",
    "nbgrader": {
     "cell_type": "code",
     "checksum": "c7695ad83115e512993867bb4c4f3148",
     "grade": true,
     "grade_id": "init_test",
     "locked": true,
     "points": 0,
     "schema_version": 3,
     "solution": false,
     "task": false
    },
    "outputId": "b736861b-a154-4cf6-c25a-23669ed9259b"
   },
   "outputs": [],
   "source": [
    "%%capture\n",
    "###########################################################\n",
    "### EXECUTE THIS CELL BEFORE YOU TO TEST YOUR SOLUTIONS ###\n",
    "###########################################################\n",
    "import imp, os, sys\n",
    "sol = imp.load_compiled(\"solutions\", \"./solutions.py\")\n",
    "sol.get_solutions(\"imdb.xlsx\")\n",
    "from nose.tools import assert_equal\n",
    "from pandas.util.testing import assert_frame_equal, assert_series_equal"
   ]
  },
  {
   "cell_type": "code",
   "execution_count": 2,
   "metadata": {
    "colab": {},
    "colab_type": "code",
    "deletable": false,
    "editable": false,
    "id": "gh_kXizx54Gr",
    "nbgrader": {
     "cell_type": "code",
     "checksum": "baa5e192334308ede9d523548d89f970",
     "grade": true,
     "grade_id": "init_user",
     "locked": true,
     "points": 0,
     "schema_version": 3,
     "solution": false,
     "task": false
    },
    "outputId": "ae7f8394-89f7-4c15-a988-b6deee34cc7f"
   },
   "outputs": [
    {
     "name": "stdout",
     "output_type": "stream",
     "text": [
      "Finished.\n"
     ]
    }
   ],
   "source": [
    "# Loading the data\n",
    "import pandas as pd\n",
    "import numpy as np\n",
    "\n",
    "xls = pd.ExcelFile('imdb.xlsx')\n",
    "df = xls.parse('imdb')\n",
    "df_directors = xls.parse('directors')\n",
    "df_countries = xls.parse('countries')\n",
    "\n",
    "df = pd.merge(left=df, right=df_countries, \n",
    "              how='inner', left_on='country_id', \n",
    "              right_on='id')\n",
    "\n",
    "df = pd.merge(left=df, right=df_directors, \n",
    "              how='inner', left_on='director_id', \n",
    "              right_on='id')\n",
    "\n",
    "print(\"Finished.\")"
   ]
  },
  {
   "cell_type": "code",
   "execution_count": 3,
   "metadata": {},
   "outputs": [
    {
     "data": {
      "text/html": [
       "<div>\n",
       "<style scoped>\n",
       "    .dataframe tbody tr th:only-of-type {\n",
       "        vertical-align: middle;\n",
       "    }\n",
       "\n",
       "    .dataframe tbody tr th {\n",
       "        vertical-align: top;\n",
       "    }\n",
       "\n",
       "    .dataframe thead th {\n",
       "        text-align: right;\n",
       "    }\n",
       "</style>\n",
       "<table border=\"1\" class=\"dataframe\">\n",
       "  <thead>\n",
       "    <tr style=\"text-align: right;\">\n",
       "      <th></th>\n",
       "      <th>movie_title</th>\n",
       "      <th>director_id</th>\n",
       "      <th>country_id</th>\n",
       "      <th>content_rating</th>\n",
       "      <th>title_year</th>\n",
       "      <th>imdb_score</th>\n",
       "      <th>gross</th>\n",
       "      <th>duration</th>\n",
       "      <th>id_x</th>\n",
       "      <th>country</th>\n",
       "      <th>id_y</th>\n",
       "      <th>director_name</th>\n",
       "    </tr>\n",
       "  </thead>\n",
       "  <tbody>\n",
       "    <tr>\n",
       "      <th>0</th>\n",
       "      <td>The Shawshank Redemption</td>\n",
       "      <td>34</td>\n",
       "      <td>1</td>\n",
       "      <td>R</td>\n",
       "      <td>1994</td>\n",
       "      <td>9.3</td>\n",
       "      <td>28341469</td>\n",
       "      <td>142</td>\n",
       "      <td>1</td>\n",
       "      <td>USA</td>\n",
       "      <td>34</td>\n",
       "      <td>Frank Darabont</td>\n",
       "    </tr>\n",
       "    <tr>\n",
       "      <th>1</th>\n",
       "      <td>The Green Mile</td>\n",
       "      <td>34</td>\n",
       "      <td>1</td>\n",
       "      <td>R</td>\n",
       "      <td>1999</td>\n",
       "      <td>8.5</td>\n",
       "      <td>136801374</td>\n",
       "      <td>189</td>\n",
       "      <td>1</td>\n",
       "      <td>USA</td>\n",
       "      <td>34</td>\n",
       "      <td>Frank Darabont</td>\n",
       "    </tr>\n",
       "    <tr>\n",
       "      <th>2</th>\n",
       "      <td>The Godfather</td>\n",
       "      <td>33</td>\n",
       "      <td>1</td>\n",
       "      <td>R</td>\n",
       "      <td>1972</td>\n",
       "      <td>9.2</td>\n",
       "      <td>134821952</td>\n",
       "      <td>175</td>\n",
       "      <td>1</td>\n",
       "      <td>USA</td>\n",
       "      <td>33</td>\n",
       "      <td>Francis Ford Coppola</td>\n",
       "    </tr>\n",
       "    <tr>\n",
       "      <th>3</th>\n",
       "      <td>The Godfather: Part II</td>\n",
       "      <td>33</td>\n",
       "      <td>1</td>\n",
       "      <td>R</td>\n",
       "      <td>1974</td>\n",
       "      <td>9.0</td>\n",
       "      <td>57300000</td>\n",
       "      <td>220</td>\n",
       "      <td>1</td>\n",
       "      <td>USA</td>\n",
       "      <td>33</td>\n",
       "      <td>Francis Ford Coppola</td>\n",
       "    </tr>\n",
       "    <tr>\n",
       "      <th>4</th>\n",
       "      <td>Apocalypse Now</td>\n",
       "      <td>33</td>\n",
       "      <td>1</td>\n",
       "      <td>R</td>\n",
       "      <td>1979</td>\n",
       "      <td>8.5</td>\n",
       "      <td>78800000</td>\n",
       "      <td>289</td>\n",
       "      <td>1</td>\n",
       "      <td>USA</td>\n",
       "      <td>33</td>\n",
       "      <td>Francis Ford Coppola</td>\n",
       "    </tr>\n",
       "  </tbody>\n",
       "</table>\n",
       "</div>"
      ],
      "text/plain": [
       "                movie_title  director_id  country_id content_rating  \\\n",
       "0  The Shawshank Redemption           34           1              R   \n",
       "1            The Green Mile           34           1              R   \n",
       "2             The Godfather           33           1              R   \n",
       "3    The Godfather: Part II           33           1              R   \n",
       "4            Apocalypse Now           33           1              R   \n",
       "\n",
       "   title_year  imdb_score      gross  duration  id_x country  id_y  \\\n",
       "0        1994         9.3   28341469       142     1     USA    34   \n",
       "1        1999         8.5  136801374       189     1     USA    34   \n",
       "2        1972         9.2  134821952       175     1     USA    33   \n",
       "3        1974         9.0   57300000       220     1     USA    33   \n",
       "4        1979         8.5   78800000       289     1     USA    33   \n",
       "\n",
       "          director_name  \n",
       "0        Frank Darabont  \n",
       "1        Frank Darabont  \n",
       "2  Francis Ford Coppola  \n",
       "3  Francis Ford Coppola  \n",
       "4  Francis Ford Coppola  "
      ]
     },
     "execution_count": 3,
     "metadata": {},
     "output_type": "execute_result"
    }
   ],
   "source": [
    "df.head()"
   ]
  },
  {
   "cell_type": "code",
   "execution_count": 12,
   "metadata": {
    "colab": {},
    "colab_type": "code",
    "deletable": false,
    "id": "Zq9h_-jx54Gt",
    "nbgrader": {
     "cell_type": "code",
     "checksum": "873488654cdad5391d21f3d6435b6676",
     "grade": false,
     "grade_id": "q1",
     "locked": false,
     "schema_version": 3,
     "solution": true,
     "task": false
    },
    "outputId": "42492703-73d8-4feb-b51b-ab4c7b51c028"
   },
   "outputs": [
    {
     "data": {
      "image/png": "[encoded data removed]",
      "text/plain": [
       "<Figure size 432x288 with 1 Axes>"
      ]
     },
     "metadata": {
      "needs_background": "light"
     },
     "output_type": "display_data"
    }
   ],
   "source": [
    "\"\"\"Q1: \n",
    "Is how much a movie makes indicative of how good it is?\n",
    "Make a simple scatter plot comparing gross to imdb_score for movies during or after 2000 (title_year >= 2000) and before 2000 (title_year < 2000).\n",
    "It may be useful to scale the x axis demarking gross. (Hint: Divide the gross amount by 1,000,000.)\n",
    "Remember to put a legend indicating which color corresponds to which years.\n",
    "What is your verdict?\n",
    "\n",
    "Save your plot in a variable called plt1, and your dataframes in variables called df_after_2000 and df_before_2000\n",
    "\"\"\"\n",
    "\n",
    "import matplotlib.pyplot as plt1\n",
    "\n",
    "# your code here\n",
    "df_after_2000 = df[df['title_year'] >= 2000]\n",
    "df_before_2000 = df[df['title_year'] < 2000]\n",
    "plt1.scatter(\n",
    "    (df_after_2000[\"gross\"])/1000000,df_after_2000['imdb_score'],\n",
    "    marker='o',\n",
    "    color='r',\n",
    "    alpha=0.5,\n",
    "    s = 100,\n",
    "    label = [\"Movies after 2000\"]\n",
    ")\n",
    "\n",
    "plt1.scatter(\n",
    "    (df_before_2000[\"gross\"])/1000000,df_before_2000['imdb_score'],\n",
    "    marker='*',\n",
    "    color='g',\n",
    "    alpha=0.5,\n",
    "    s = 100,\n",
    "    label = [\"Movies before 2000\"]\n",
    ")\n",
    "\n",
    "plt1.xlabel('Gross')\n",
    "plt1.ylabel('imdb score')\n",
    "plt1.legend(loc = 'best')\n",
    "plt1.show()"
   ]
  },
  {
   "cell_type": "code",
   "execution_count": 13,
   "metadata": {
    "colab": {},
    "colab_type": "code",
    "deletable": false,
    "editable": false,
    "id": "XAd9cS1154Gv",
    "nbgrader": {
     "cell_type": "code",
     "checksum": "d7f0af7def6a7f172f44f910bfa46543",
     "grade": true,
     "grade_id": "q1_test",
     "locked": true,
     "points": 3,
     "schema_version": 3,
     "solution": false,
     "task": false
    }
   },
   "outputs": [
    {
     "name": "stdout",
     "output_type": "stream",
     "text": [
      "Success!\n"
     ]
    }
   ],
   "source": [
    "assert_frame_equal(df_before_2000, sol.df_before_2000)\n",
    "assert_frame_equal(df_after_2000, sol.df_after_2000)\n",
    "np.testing.assert_array_equal(plt1, sol.plt1)\n",
    "print(\"Success!\")"
   ]
  },
  {
   "cell_type": "code",
   "execution_count": 18,
   "metadata": {
    "colab": {},
    "colab_type": "code",
    "deletable": false,
    "id": "DInjEVZm54Gx",
    "nbgrader": {
     "cell_type": "code",
     "checksum": "18a2eacd01022f020f9407e5eeb67bde",
     "grade": false,
     "grade_id": "q2",
     "locked": false,
     "schema_version": 3,
     "solution": true,
     "task": false
    },
    "outputId": "d468643d-9839-4e44-f440-1476504dfa68"
   },
   "outputs": [
    {
     "data": {
      "image/png": "[encoded data removed]",
      "text/plain": [
       "<Figure size 432x288 with 1 Axes>"
      ]
     },
     "metadata": {
      "needs_background": "light"
     },
     "output_type": "display_data"
    }
   ],
   "source": [
    "\"\"\"Q2: \n",
    "Using numpy and pyplot, make an overlapping histogram that shows the score distribution vs. count of R-Rated movies and PG-13 ones.\n",
    "Describe your plot. \n",
    "\n",
    "Save your plot in a variable called plt2, and your dataframes in variables called df_R and df_PG13\n",
    "\"\"\"\n",
    "\n",
    "import matplotlib.pyplot as plt2\n",
    "\n",
    "# your code here\n",
    "df_R = df[df['content_rating']=='R']\n",
    "df_PG13 = df[df['content_rating']=='PG-13']\n",
    "\n",
    "R_score = df_R['imdb_score']\n",
    "PG13_score = df_PG13['imdb_score']\n",
    "plt2.hist(\n",
    "    R_score,\n",
    "    alpha = 0.2,\n",
    "    color = 'yellow',\n",
    "    label = 'R rated movie',\n",
    "    bins = 'auto'\n",
    ")\n",
    "\n",
    "plt2.hist(\n",
    "    PG13_score,\n",
    "    alpha = 0.2,\n",
    "    color = 'purple',\n",
    "    label = 'PG-13 rating movie',\n",
    "    bins = 'auto'\n",
    ")\n",
    "\n",
    "plt2.xlabel(\"imdb score\")\n",
    "plt2.ylabel(\"Number of Scores distribution\")\n",
    "\n",
    "plt2.legend(loc = 'best')\n",
    "\n",
    "plt2.title(\"Score distribution of R rating and PG-13 rating movies\")\n",
    "\n",
    "plt2.show() "
   ]
  },
  {
   "cell_type": "code",
   "execution_count": 19,
   "metadata": {
    "colab": {},
    "colab_type": "code",
    "deletable": false,
    "editable": false,
    "id": "oQXXDmuE54Gy",
    "nbgrader": {
     "cell_type": "code",
     "checksum": "21423195cc25fb93f02dfd857d4d9595",
     "grade": true,
     "grade_id": "q2_test",
     "locked": true,
     "points": 3,
     "schema_version": 3,
     "solution": false,
     "task": false
    }
   },
   "outputs": [
    {
     "name": "stdout",
     "output_type": "stream",
     "text": [
      "Success!\n"
     ]
    }
   ],
   "source": [
    "assert_frame_equal(df_R, sol.df_R)\n",
    "assert_frame_equal(df_PG13, sol.df_PG13)\n",
    "np.testing.assert_array_equal(plt2, sol.plt2)\n",
    "print(\"Success!\")"
   ]
  },
  {
   "cell_type": "code",
   "execution_count": null,
   "metadata": {},
   "outputs": [],
   "source": []
  }
 ],
 "metadata": {
  "colab": {
   "name": "Module 4 solutions.ipynb",
   "provenance": []
  },
  "kernelspec": {
   "display_name": "Python 3",
   "language": "python",
   "name": "python3"
  },
  "language_info": {
   "codemirror_mode": {
    "name": "ipython",
    "version": 3
   },
   "file_extension": ".py",
   "mimetype": "text/x-python",
   "name": "python",
   "nbconvert_exporter": "python",
   "pygments_lexer": "ipython3",
   "version": "3.7.6"
  }
 },
 "nbformat": 4,
 "nbformat_minor": 1
}
